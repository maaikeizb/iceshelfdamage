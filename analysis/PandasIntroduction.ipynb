{
 "cells": [
  {
   "cell_type": "markdown",
   "metadata": {},
   "source": [
    "# Loading Data"
   ]
  },
  {
   "cell_type": "code",
   "execution_count": 1,
   "metadata": {},
   "outputs": [],
   "source": [
    "import pandas as pd\n",
    "from pathlib import Path\n",
    "%matplotlib inline"
   ]
  },
  {
   "cell_type": "code",
   "execution_count": 2,
   "metadata": {},
   "outputs": [],
   "source": [
    "data_path = Path(\"./data/\")"
   ]
  },
  {
   "cell_type": "code",
   "execution_count": 3,
   "metadata": {},
   "outputs": [
    {
     "data": {
      "text/plain": [
       "[PosixPath('data/income_per_person_gdppercapita_ppp_inflation_adjusted.csv'),\n",
       " PosixPath('data/life_expectancy_years.csv'),\n",
       " PosixPath('data/population_total.csv'),\n",
       " PosixPath('data/.ipynb_checkpoints')]"
      ]
     },
     "execution_count": 3,
     "metadata": {},
     "output_type": "execute_result"
    }
   ],
   "source": [
    "list(data_path.glob(\"*\"))"
   ]
  },
  {
   "cell_type": "code",
   "execution_count": 4,
   "metadata": {},
   "outputs": [],
   "source": [
    "population = pd.read_csv(data_path / \"population_total.csv\") # load table"
   ]
  },
  {
   "cell_type": "code",
   "execution_count": 5,
   "metadata": {},
   "outputs": [
    {
     "data": {
      "text/plain": [
       "0      Afghanistan\n",
       "1          Albania\n",
       "2          Algeria\n",
       "3          Andorra\n",
       "4           Angola\n",
       "          ...     \n",
       "190      Venezuela\n",
       "191        Vietnam\n",
       "192          Yemen\n",
       "193         Zambia\n",
       "194       Zimbabwe\n",
       "Name: country, Length: 195, dtype: object"
      ]
     },
     "execution_count": 5,
     "metadata": {},
     "output_type": "execute_result"
    }
   ],
   "source": [
    "population[\"country\"] #get one column of table. It is accompanied with first column"
   ]
  },
  {
   "cell_type": "code",
   "execution_count": 6,
   "metadata": {},
   "outputs": [],
   "source": [
    "# load a column with better information than the first integer columns \n",
    "# The integer column is added by pandas\n",
    "# with index_col=0 \n",
    "population = pd.read_csv(data_path / \"population_total.csv\",index_col=0)"
   ]
  },
  {
   "cell_type": "code",
   "execution_count": 7,
   "metadata": {},
   "outputs": [
    {
     "data": {
      "text/html": [
       "<div>\n",
       "<style scoped>\n",
       "    .dataframe tbody tr th:only-of-type {\n",
       "        vertical-align: middle;\n",
       "    }\n",
       "\n",
       "    .dataframe tbody tr th {\n",
       "        vertical-align: top;\n",
       "    }\n",
       "\n",
       "    .dataframe thead th {\n",
       "        text-align: right;\n",
       "    }\n",
       "</style>\n",
       "<table border=\"1\" class=\"dataframe\">\n",
       "  <thead>\n",
       "    <tr style=\"text-align: right;\">\n",
       "      <th></th>\n",
       "      <th>1800</th>\n",
       "      <th>1801</th>\n",
       "      <th>1802</th>\n",
       "      <th>1803</th>\n",
       "      <th>1804</th>\n",
       "      <th>1805</th>\n",
       "      <th>1806</th>\n",
       "      <th>1807</th>\n",
       "      <th>1808</th>\n",
       "      <th>1809</th>\n",
       "      <th>...</th>\n",
       "      <th>2091</th>\n",
       "      <th>2092</th>\n",
       "      <th>2093</th>\n",
       "      <th>2094</th>\n",
       "      <th>2095</th>\n",
       "      <th>2096</th>\n",
       "      <th>2097</th>\n",
       "      <th>2098</th>\n",
       "      <th>2099</th>\n",
       "      <th>2100</th>\n",
       "    </tr>\n",
       "    <tr>\n",
       "      <th>country</th>\n",
       "      <th></th>\n",
       "      <th></th>\n",
       "      <th></th>\n",
       "      <th></th>\n",
       "      <th></th>\n",
       "      <th></th>\n",
       "      <th></th>\n",
       "      <th></th>\n",
       "      <th></th>\n",
       "      <th></th>\n",
       "      <th></th>\n",
       "      <th></th>\n",
       "      <th></th>\n",
       "      <th></th>\n",
       "      <th></th>\n",
       "      <th></th>\n",
       "      <th></th>\n",
       "      <th></th>\n",
       "      <th></th>\n",
       "      <th></th>\n",
       "      <th></th>\n",
       "    </tr>\n",
       "  </thead>\n",
       "  <tbody>\n",
       "    <tr>\n",
       "      <th>Afghanistan</th>\n",
       "      <td>3280000</td>\n",
       "      <td>3280000</td>\n",
       "      <td>3280000</td>\n",
       "      <td>3280000</td>\n",
       "      <td>3280000</td>\n",
       "      <td>3280000</td>\n",
       "      <td>3280000</td>\n",
       "      <td>3280000</td>\n",
       "      <td>3280000</td>\n",
       "      <td>3280000</td>\n",
       "      <td>...</td>\n",
       "      <td>71900000</td>\n",
       "      <td>71800000</td>\n",
       "      <td>71600000</td>\n",
       "      <td>71500000</td>\n",
       "      <td>71300000</td>\n",
       "      <td>71200000</td>\n",
       "      <td>71000000</td>\n",
       "      <td>70800000</td>\n",
       "      <td>70600000</td>\n",
       "      <td>70400000</td>\n",
       "    </tr>\n",
       "    <tr>\n",
       "      <th>Albania</th>\n",
       "      <td>410000</td>\n",
       "      <td>412000</td>\n",
       "      <td>413000</td>\n",
       "      <td>414000</td>\n",
       "      <td>416000</td>\n",
       "      <td>417000</td>\n",
       "      <td>418000</td>\n",
       "      <td>420000</td>\n",
       "      <td>421000</td>\n",
       "      <td>422000</td>\n",
       "      <td>...</td>\n",
       "      <td>1820000</td>\n",
       "      <td>1800000</td>\n",
       "      <td>1780000</td>\n",
       "      <td>1760000</td>\n",
       "      <td>1740000</td>\n",
       "      <td>1720000</td>\n",
       "      <td>1710000</td>\n",
       "      <td>1690000</td>\n",
       "      <td>1670000</td>\n",
       "      <td>1660000</td>\n",
       "    </tr>\n",
       "    <tr>\n",
       "      <th>Algeria</th>\n",
       "      <td>2500000</td>\n",
       "      <td>2510000</td>\n",
       "      <td>2520000</td>\n",
       "      <td>2530000</td>\n",
       "      <td>2540000</td>\n",
       "      <td>2550000</td>\n",
       "      <td>2560000</td>\n",
       "      <td>2570000</td>\n",
       "      <td>2580000</td>\n",
       "      <td>2590000</td>\n",
       "      <td>...</td>\n",
       "      <td>62800000</td>\n",
       "      <td>62800000</td>\n",
       "      <td>62800000</td>\n",
       "      <td>62800000</td>\n",
       "      <td>62800000</td>\n",
       "      <td>62800000</td>\n",
       "      <td>62700000</td>\n",
       "      <td>62700000</td>\n",
       "      <td>62600000</td>\n",
       "      <td>62600000</td>\n",
       "    </tr>\n",
       "    <tr>\n",
       "      <th>Andorra</th>\n",
       "      <td>2650</td>\n",
       "      <td>2650</td>\n",
       "      <td>2650</td>\n",
       "      <td>2650</td>\n",
       "      <td>2650</td>\n",
       "      <td>2650</td>\n",
       "      <td>2650</td>\n",
       "      <td>2650</td>\n",
       "      <td>2650</td>\n",
       "      <td>2650</td>\n",
       "      <td>...</td>\n",
       "      <td>64300</td>\n",
       "      <td>64200</td>\n",
       "      <td>64100</td>\n",
       "      <td>63900</td>\n",
       "      <td>63800</td>\n",
       "      <td>63700</td>\n",
       "      <td>63500</td>\n",
       "      <td>63400</td>\n",
       "      <td>63300</td>\n",
       "      <td>63100</td>\n",
       "    </tr>\n",
       "    <tr>\n",
       "      <th>Angola</th>\n",
       "      <td>1570000</td>\n",
       "      <td>1570000</td>\n",
       "      <td>1570000</td>\n",
       "      <td>1570000</td>\n",
       "      <td>1570000</td>\n",
       "      <td>1570000</td>\n",
       "      <td>1570000</td>\n",
       "      <td>1570000</td>\n",
       "      <td>1570000</td>\n",
       "      <td>1570000</td>\n",
       "      <td>...</td>\n",
       "      <td>156000000</td>\n",
       "      <td>158000000</td>\n",
       "      <td>160000000</td>\n",
       "      <td>162000000</td>\n",
       "      <td>164000000</td>\n",
       "      <td>166000000</td>\n",
       "      <td>167000000</td>\n",
       "      <td>169000000</td>\n",
       "      <td>171000000</td>\n",
       "      <td>173000000</td>\n",
       "    </tr>\n",
       "    <tr>\n",
       "      <th>...</th>\n",
       "      <td>...</td>\n",
       "      <td>...</td>\n",
       "      <td>...</td>\n",
       "      <td>...</td>\n",
       "      <td>...</td>\n",
       "      <td>...</td>\n",
       "      <td>...</td>\n",
       "      <td>...</td>\n",
       "      <td>...</td>\n",
       "      <td>...</td>\n",
       "      <td>...</td>\n",
       "      <td>...</td>\n",
       "      <td>...</td>\n",
       "      <td>...</td>\n",
       "      <td>...</td>\n",
       "      <td>...</td>\n",
       "      <td>...</td>\n",
       "      <td>...</td>\n",
       "      <td>...</td>\n",
       "      <td>...</td>\n",
       "      <td>...</td>\n",
       "    </tr>\n",
       "    <tr>\n",
       "      <th>Venezuela</th>\n",
       "      <td>718000</td>\n",
       "      <td>718000</td>\n",
       "      <td>718000</td>\n",
       "      <td>718000</td>\n",
       "      <td>718000</td>\n",
       "      <td>718000</td>\n",
       "      <td>718000</td>\n",
       "      <td>718000</td>\n",
       "      <td>718000</td>\n",
       "      <td>718000</td>\n",
       "      <td>...</td>\n",
       "      <td>42500000</td>\n",
       "      <td>42500000</td>\n",
       "      <td>42400000</td>\n",
       "      <td>42300000</td>\n",
       "      <td>42200000</td>\n",
       "      <td>42100000</td>\n",
       "      <td>42000000</td>\n",
       "      <td>41900000</td>\n",
       "      <td>41800000</td>\n",
       "      <td>41600000</td>\n",
       "    </tr>\n",
       "    <tr>\n",
       "      <th>Vietnam</th>\n",
       "      <td>6550000</td>\n",
       "      <td>6550000</td>\n",
       "      <td>6550000</td>\n",
       "      <td>6550000</td>\n",
       "      <td>6550000</td>\n",
       "      <td>6550000</td>\n",
       "      <td>6550000</td>\n",
       "      <td>6550000</td>\n",
       "      <td>6550000</td>\n",
       "      <td>6550000</td>\n",
       "      <td>...</td>\n",
       "      <td>110000000</td>\n",
       "      <td>109000000</td>\n",
       "      <td>109000000</td>\n",
       "      <td>109000000</td>\n",
       "      <td>109000000</td>\n",
       "      <td>109000000</td>\n",
       "      <td>108000000</td>\n",
       "      <td>108000000</td>\n",
       "      <td>108000000</td>\n",
       "      <td>108000000</td>\n",
       "    </tr>\n",
       "    <tr>\n",
       "      <th>Yemen</th>\n",
       "      <td>2590000</td>\n",
       "      <td>2590000</td>\n",
       "      <td>2590000</td>\n",
       "      <td>2590000</td>\n",
       "      <td>2590000</td>\n",
       "      <td>2590000</td>\n",
       "      <td>2590000</td>\n",
       "      <td>2590000</td>\n",
       "      <td>2590000</td>\n",
       "      <td>2590000</td>\n",
       "      <td>...</td>\n",
       "      <td>54700000</td>\n",
       "      <td>54600000</td>\n",
       "      <td>54500000</td>\n",
       "      <td>54400000</td>\n",
       "      <td>54200000</td>\n",
       "      <td>54100000</td>\n",
       "      <td>54000000</td>\n",
       "      <td>53800000</td>\n",
       "      <td>53700000</td>\n",
       "      <td>53500000</td>\n",
       "    </tr>\n",
       "    <tr>\n",
       "      <th>Zambia</th>\n",
       "      <td>747000</td>\n",
       "      <td>747000</td>\n",
       "      <td>747000</td>\n",
       "      <td>747000</td>\n",
       "      <td>747000</td>\n",
       "      <td>747000</td>\n",
       "      <td>747000</td>\n",
       "      <td>747000</td>\n",
       "      <td>747000</td>\n",
       "      <td>747000</td>\n",
       "      <td>...</td>\n",
       "      <td>84600000</td>\n",
       "      <td>85700000</td>\n",
       "      <td>86800000</td>\n",
       "      <td>87900000</td>\n",
       "      <td>89000000</td>\n",
       "      <td>90100000</td>\n",
       "      <td>91200000</td>\n",
       "      <td>92300000</td>\n",
       "      <td>93300000</td>\n",
       "      <td>94400000</td>\n",
       "    </tr>\n",
       "    <tr>\n",
       "      <th>Zimbabwe</th>\n",
       "      <td>1090000</td>\n",
       "      <td>1090000</td>\n",
       "      <td>1090000</td>\n",
       "      <td>1090000</td>\n",
       "      <td>1090000</td>\n",
       "      <td>1090000</td>\n",
       "      <td>1090000</td>\n",
       "      <td>1090000</td>\n",
       "      <td>1090000</td>\n",
       "      <td>1090000</td>\n",
       "      <td>...</td>\n",
       "      <td>40000000</td>\n",
       "      <td>40100000</td>\n",
       "      <td>40200000</td>\n",
       "      <td>40300000</td>\n",
       "      <td>40400000</td>\n",
       "      <td>40500000</td>\n",
       "      <td>40500000</td>\n",
       "      <td>40600000</td>\n",
       "      <td>40600000</td>\n",
       "      <td>40700000</td>\n",
       "    </tr>\n",
       "  </tbody>\n",
       "</table>\n",
       "<p>195 rows × 301 columns</p>\n",
       "</div>"
      ],
      "text/plain": [
       "                1800     1801     1802     1803     1804     1805     1806  \\\n",
       "country                                                                      \n",
       "Afghanistan  3280000  3280000  3280000  3280000  3280000  3280000  3280000   \n",
       "Albania       410000   412000   413000   414000   416000   417000   418000   \n",
       "Algeria      2500000  2510000  2520000  2530000  2540000  2550000  2560000   \n",
       "Andorra         2650     2650     2650     2650     2650     2650     2650   \n",
       "Angola       1570000  1570000  1570000  1570000  1570000  1570000  1570000   \n",
       "...              ...      ...      ...      ...      ...      ...      ...   \n",
       "Venezuela     718000   718000   718000   718000   718000   718000   718000   \n",
       "Vietnam      6550000  6550000  6550000  6550000  6550000  6550000  6550000   \n",
       "Yemen        2590000  2590000  2590000  2590000  2590000  2590000  2590000   \n",
       "Zambia        747000   747000   747000   747000   747000   747000   747000   \n",
       "Zimbabwe     1090000  1090000  1090000  1090000  1090000  1090000  1090000   \n",
       "\n",
       "                1807     1808     1809  ...       2091       2092       2093  \\\n",
       "country                                 ...                                    \n",
       "Afghanistan  3280000  3280000  3280000  ...   71900000   71800000   71600000   \n",
       "Albania       420000   421000   422000  ...    1820000    1800000    1780000   \n",
       "Algeria      2570000  2580000  2590000  ...   62800000   62800000   62800000   \n",
       "Andorra         2650     2650     2650  ...      64300      64200      64100   \n",
       "Angola       1570000  1570000  1570000  ...  156000000  158000000  160000000   \n",
       "...              ...      ...      ...  ...        ...        ...        ...   \n",
       "Venezuela     718000   718000   718000  ...   42500000   42500000   42400000   \n",
       "Vietnam      6550000  6550000  6550000  ...  110000000  109000000  109000000   \n",
       "Yemen        2590000  2590000  2590000  ...   54700000   54600000   54500000   \n",
       "Zambia        747000   747000   747000  ...   84600000   85700000   86800000   \n",
       "Zimbabwe     1090000  1090000  1090000  ...   40000000   40100000   40200000   \n",
       "\n",
       "                  2094       2095       2096       2097       2098       2099  \\\n",
       "country                                                                         \n",
       "Afghanistan   71500000   71300000   71200000   71000000   70800000   70600000   \n",
       "Albania        1760000    1740000    1720000    1710000    1690000    1670000   \n",
       "Algeria       62800000   62800000   62800000   62700000   62700000   62600000   \n",
       "Andorra          63900      63800      63700      63500      63400      63300   \n",
       "Angola       162000000  164000000  166000000  167000000  169000000  171000000   \n",
       "...                ...        ...        ...        ...        ...        ...   \n",
       "Venezuela     42300000   42200000   42100000   42000000   41900000   41800000   \n",
       "Vietnam      109000000  109000000  109000000  108000000  108000000  108000000   \n",
       "Yemen         54400000   54200000   54100000   54000000   53800000   53700000   \n",
       "Zambia        87900000   89000000   90100000   91200000   92300000   93300000   \n",
       "Zimbabwe      40300000   40400000   40500000   40500000   40600000   40600000   \n",
       "\n",
       "                  2100  \n",
       "country                 \n",
       "Afghanistan   70400000  \n",
       "Albania        1660000  \n",
       "Algeria       62600000  \n",
       "Andorra          63100  \n",
       "Angola       173000000  \n",
       "...                ...  \n",
       "Venezuela     41600000  \n",
       "Vietnam      108000000  \n",
       "Yemen         53500000  \n",
       "Zambia        94400000  \n",
       "Zimbabwe      40700000  \n",
       "\n",
       "[195 rows x 301 columns]"
      ]
     },
     "execution_count": 7,
     "metadata": {},
     "output_type": "execute_result"
    }
   ],
   "source": [
    "population"
   ]
  },
  {
   "cell_type": "code",
   "execution_count": 8,
   "metadata": {},
   "outputs": [
    {
     "data": {
      "text/plain": [
       "{'Afghanistan',\n",
       " 'Albania',\n",
       " 'Algeria',\n",
       " 'Andorra',\n",
       " 'Angola',\n",
       " 'Antigua and Barbuda',\n",
       " 'Argentina',\n",
       " 'Armenia',\n",
       " 'Australia',\n",
       " 'Austria',\n",
       " 'Azerbaijan',\n",
       " 'Bahamas',\n",
       " 'Bahrain',\n",
       " 'Bangladesh',\n",
       " 'Barbados',\n",
       " 'Belarus',\n",
       " 'Belgium',\n",
       " 'Belize',\n",
       " 'Benin',\n",
       " 'Bhutan',\n",
       " 'Bolivia',\n",
       " 'Bosnia and Herzegovina',\n",
       " 'Botswana',\n",
       " 'Brazil',\n",
       " 'Brunei',\n",
       " 'Bulgaria',\n",
       " 'Burkina Faso',\n",
       " 'Burundi',\n",
       " 'Cambodia',\n",
       " 'Cameroon',\n",
       " 'Canada',\n",
       " 'Cape Verde',\n",
       " 'Central African Republic',\n",
       " 'Chad',\n",
       " 'Chile',\n",
       " 'China',\n",
       " 'Colombia',\n",
       " 'Comoros',\n",
       " 'Congo, Dem. Rep.',\n",
       " 'Congo, Rep.',\n",
       " 'Costa Rica',\n",
       " \"Cote d'Ivoire\",\n",
       " 'Croatia',\n",
       " 'Cuba',\n",
       " 'Cyprus',\n",
       " 'Czech Republic',\n",
       " 'Denmark',\n",
       " 'Djibouti',\n",
       " 'Dominica',\n",
       " 'Dominican Republic',\n",
       " 'Ecuador',\n",
       " 'Egypt',\n",
       " 'El Salvador',\n",
       " 'Equatorial Guinea',\n",
       " 'Eritrea',\n",
       " 'Estonia',\n",
       " 'Ethiopia',\n",
       " 'Fiji',\n",
       " 'Finland',\n",
       " 'France',\n",
       " 'Gabon',\n",
       " 'Gambia',\n",
       " 'Georgia',\n",
       " 'Germany',\n",
       " 'Ghana',\n",
       " 'Greece',\n",
       " 'Grenada',\n",
       " 'Guatemala',\n",
       " 'Guinea',\n",
       " 'Guinea-Bissau',\n",
       " 'Guyana',\n",
       " 'Haiti',\n",
       " 'Holy See',\n",
       " 'Honduras',\n",
       " 'Hungary',\n",
       " 'Iceland',\n",
       " 'India',\n",
       " 'Indonesia',\n",
       " 'Iran',\n",
       " 'Iraq',\n",
       " 'Ireland',\n",
       " 'Israel',\n",
       " 'Italy',\n",
       " 'Jamaica',\n",
       " 'Japan',\n",
       " 'Jordan',\n",
       " 'Kazakhstan',\n",
       " 'Kenya',\n",
       " 'Kiribati',\n",
       " 'Kuwait',\n",
       " 'Kyrgyz Republic',\n",
       " 'Lao',\n",
       " 'Latvia',\n",
       " 'Lebanon',\n",
       " 'Lesotho',\n",
       " 'Liberia',\n",
       " 'Libya',\n",
       " 'Liechtenstein',\n",
       " 'Lithuania',\n",
       " 'Luxembourg',\n",
       " 'Macedonia, FYR',\n",
       " 'Madagascar',\n",
       " 'Malawi',\n",
       " 'Malaysia',\n",
       " 'Maldives',\n",
       " 'Mali',\n",
       " 'Malta',\n",
       " 'Marshall Islands',\n",
       " 'Mauritania',\n",
       " 'Mauritius',\n",
       " 'Mexico',\n",
       " 'Micronesia, Fed. Sts.',\n",
       " 'Moldova',\n",
       " 'Monaco',\n",
       " 'Mongolia',\n",
       " 'Montenegro',\n",
       " 'Morocco',\n",
       " 'Mozambique',\n",
       " 'Myanmar',\n",
       " 'Namibia',\n",
       " 'Nauru',\n",
       " 'Nepal',\n",
       " 'Netherlands',\n",
       " 'New Zealand',\n",
       " 'Nicaragua',\n",
       " 'Niger',\n",
       " 'Nigeria',\n",
       " 'North Korea',\n",
       " 'Norway',\n",
       " 'Oman',\n",
       " 'Pakistan',\n",
       " 'Palau',\n",
       " 'Palestine',\n",
       " 'Panama',\n",
       " 'Papua New Guinea',\n",
       " 'Paraguay',\n",
       " 'Peru',\n",
       " 'Philippines',\n",
       " 'Poland',\n",
       " 'Portugal',\n",
       " 'Qatar',\n",
       " 'Romania',\n",
       " 'Russia',\n",
       " 'Rwanda',\n",
       " 'Samoa',\n",
       " 'San Marino',\n",
       " 'Sao Tome and Principe',\n",
       " 'Saudi Arabia',\n",
       " 'Senegal',\n",
       " 'Serbia',\n",
       " 'Seychelles',\n",
       " 'Sierra Leone',\n",
       " 'Singapore',\n",
       " 'Slovak Republic',\n",
       " 'Slovenia',\n",
       " 'Solomon Islands',\n",
       " 'Somalia',\n",
       " 'South Africa',\n",
       " 'South Korea',\n",
       " 'South Sudan',\n",
       " 'Spain',\n",
       " 'Sri Lanka',\n",
       " 'St. Kitts and Nevis',\n",
       " 'St. Lucia',\n",
       " 'St. Vincent and the Grenadines',\n",
       " 'Sudan',\n",
       " 'Suriname',\n",
       " 'Swaziland',\n",
       " 'Sweden',\n",
       " 'Switzerland',\n",
       " 'Syria',\n",
       " 'Tajikistan',\n",
       " 'Tanzania',\n",
       " 'Thailand',\n",
       " 'Timor-Leste',\n",
       " 'Togo',\n",
       " 'Tonga',\n",
       " 'Trinidad and Tobago',\n",
       " 'Tunisia',\n",
       " 'Turkey',\n",
       " 'Turkmenistan',\n",
       " 'Tuvalu',\n",
       " 'Uganda',\n",
       " 'Ukraine',\n",
       " 'United Arab Emirates',\n",
       " 'United Kingdom',\n",
       " 'United States',\n",
       " 'Uruguay',\n",
       " 'Uzbekistan',\n",
       " 'Vanuatu',\n",
       " 'Venezuela',\n",
       " 'Vietnam',\n",
       " 'Yemen',\n",
       " 'Zambia',\n",
       " 'Zimbabwe'}"
      ]
     },
     "execution_count": 8,
     "metadata": {},
     "output_type": "execute_result"
    }
   ],
   "source": [
    "# population[\"country\"] # does not work anymore\n",
    "population.index # now gives the row names\n",
    "set(population.index) # another way of getting index"
   ]
  },
  {
   "cell_type": "code",
   "execution_count": 9,
   "metadata": {},
   "outputs": [
    {
     "data": {
      "text/plain": [
       "1800    3030000\n",
       "1801    3050000\n",
       "1802    3060000\n",
       "1803    3070000\n",
       "1804    3080000\n",
       "         ...   \n",
       "2096    6730000\n",
       "2097    6700000\n",
       "2098    6670000\n",
       "2099    6640000\n",
       "2100    6600000\n",
       "Name: Portugal, Length: 301, dtype: int64"
      ]
     },
     "execution_count": 9,
     "metadata": {},
     "output_type": "execute_result"
    }
   ],
   "source": [
    "# transpose\n",
    "population.T\n",
    "population.T[\"Portugal\"] # gives data for one country"
   ]
  },
  {
   "cell_type": "code",
   "execution_count": 10,
   "metadata": {},
   "outputs": [],
   "source": [
    "# load all data\n",
    "population = pd.read_csv(data_path / \"population_total.csv\",index_col=0)\n",
    "life_expectancy = pd.read_csv(data_path / \"life_expectancy_years.csv\",index_col=0)\n",
    "income = pd.read_csv(data_path / \"income_per_person_gdppercapita_ppp_inflation_adjusted.csv\",index_col=\"country\")"
   ]
  },
  {
   "cell_type": "markdown",
   "metadata": {},
   "source": [
    "## Quick inspection plot of data\n",
    "Should always do this (and document it) to check for flaws, weird stuff, etc."
   ]
  },
  {
   "cell_type": "code",
   "execution_count": 11,
   "metadata": {},
   "outputs": [
    {
     "data": {
      "text/plain": [
       "<matplotlib.axes._subplots.AxesSubplot at 0x1234dbb20>"
      ]
     },
     "execution_count": 11,
     "metadata": {},
     "output_type": "execute_result"
    },
    {
     "data": {
      "image/png": "[encoded data removed]",
      "text/plain": [
       "<Figure size 432x288 with 1 Axes>"
      ]
     },
     "metadata": {
      "needs_background": "light"
     },
     "output_type": "display_data"
    }
   ],
   "source": [
    "# plot\n",
    "population.T[\"Netherlands\"].plot(legend='NL') # quick inspection plot\n",
    "population.T[\"Yemen\"].plot(logy=True,legend='Yemen')\n",
    "population.T[\"China\"].plot(logy=True,legend='China')\n",
    "\n"
   ]
  },
  {
   "cell_type": "code",
   "execution_count": 12,
   "metadata": {},
   "outputs": [
    {
     "name": "stdout",
     "output_type": "stream",
     "text": [
      "<class 'pandas.core.frame.DataFrame'>\n",
      "Index: 187 entries, Afghanistan to Zimbabwe\n",
      "Columns: 219 entries, 1800 to 2018\n",
      "dtypes: float64(219)\n",
      "memory usage: 321.4+ KB\n",
      "<class 'pandas.core.frame.DataFrame'>\n",
      "Index: 195 entries, Afghanistan to Zimbabwe\n",
      "Columns: 301 entries, 1800 to 2100\n",
      "dtypes: int64(301)\n",
      "memory usage: 465.1+ KB\n"
     ]
    },
    {
     "data": {
      "text/plain": [
       "{'Holy See',\n",
       " 'Liechtenstein',\n",
       " 'Monaco',\n",
       " 'Nauru',\n",
       " 'Palau',\n",
       " 'San Marino',\n",
       " 'St. Kitts and Nevis',\n",
       " 'Tuvalu'}"
      ]
     },
     "execution_count": 12,
     "metadata": {},
     "output_type": "execute_result"
    }
   ],
   "source": [
    "life_expectancy.info()\n",
    "population.info()\n",
    "# not same countries in datasets!!\n",
    "\n",
    "# you can do symmetric differences on sets with pandas:\n",
    "life_expectancy.index ^ population.index # gives countries that are in either one and not the other \n",
    "set(population.index) - set(life_expectancy.index) # similar: remove everything that is in population but not in life-expectation\n",
    "# set(life_expectancy.index) - set(population.index) # retrieves empty set; because population is the larger set."
   ]
  },
  {
   "cell_type": "code",
   "execution_count": 13,
   "metadata": {},
   "outputs": [
    {
     "data": {
      "text/plain": [
       "Index(['Monaco', 'Nauru', 'Palau', 'San Marino', 'St. Kitts and Nevis',\n",
       "       'Tuvalu'],\n",
       "      dtype='object', name='country')"
      ]
     },
     "execution_count": 13,
     "metadata": {},
     "output_type": "execute_result"
    }
   ],
   "source": [
    "\n",
    "income.index ^ life_expectancy.index"
   ]
  },
  {
   "cell_type": "code",
   "execution_count": null,
   "metadata": {},
   "outputs": [],
   "source": []
  },
  {
   "cell_type": "code",
   "execution_count": 14,
   "metadata": {},
   "outputs": [
    {
     "data": {
      "text/plain": [
       "1800    23.4\n",
       "1801    23.4\n",
       "1802    23.4\n",
       "1803    23.4\n",
       "1804    23.4\n",
       "        ... \n",
       "2014    68.4\n",
       "2015    67.2\n",
       "2016    66.7\n",
       "2017    66.9\n",
       "2018    67.1\n",
       "Name: life_expectancy, Length: 219, dtype: float64"
      ]
     },
     "execution_count": 14,
     "metadata": {},
     "output_type": "execute_result"
    }
   ],
   "source": [
    "# Extract data column and rename it\n",
    "life_expectancy.T[\"Yemen\"].rename(\"life_expectancy\")"
   ]
  },
  {
   "cell_type": "code",
   "execution_count": 15,
   "metadata": {},
   "outputs": [],
   "source": [
    "#concat takes a list of table columns for new subset table\n",
    "yemen = pd.concat([ income.T[\"Yemen\"].rename(\"income\"),\n",
    "            life_expectancy.T[\"Yemen\"].rename(\"life_expectancy\") ],\n",
    "            axis = 1)#.plot() # need axis=1 for the right dimension-addition of the table columns"
   ]
  },
  {
   "cell_type": "code",
   "execution_count": 16,
   "metadata": {},
   "outputs": [],
   "source": [
    "# install from kernel\n",
    "# !pip install plotnine \n",
    "# plotnine is very useful is everything is in one dataframe. \n",
    "# then you can use GGPLOT (??)\n",
    "\n",
    "from plotnine import ggplot, geom_point, aes\n"
   ]
  },
  {
   "cell_type": "markdown",
   "metadata": {},
   "source": [
    "## plotnine \n",
    "and ggplot uses matplotlib underneath but apparently this is nicer\n",
    "* aes creates aestatic mapping\n",
    "* geom_point is scatterplot"
   ]
  },
  {
   "cell_type": "code",
   "execution_count": 17,
   "metadata": {},
   "outputs": [
    {
     "name": "stderr",
     "output_type": "stream",
     "text": [
      "/Users/maaikeizeboud/anaconda3/envs/reproducibleresearch/lib/python3.8/site-packages/plotnine/layer.py:452: PlotnineWarning: geom_point : Removed 22 rows containing missing values.\n",
      "  self.data = self.geom.handle_na(self.data)\n"
     ]
    },
    {
     "data": {
      "image/png": "[encoded data removed]",
      "text/plain": [
       "<Figure size 640x480 with 1 Axes>"
      ]
     },
     "metadata": {},
     "output_type": "display_data"
    },
    {
     "data": {
      "text/plain": [
       "<ggplot: (319657123)>"
      ]
     },
     "execution_count": 17,
     "metadata": {},
     "output_type": "execute_result"
    }
   ],
   "source": [
    "\n",
    "ggplot(yemen, aes(\"income\",'life_expectancy') ) + geom_point() "
   ]
  },
  {
   "cell_type": "code",
   "execution_count": 21,
   "metadata": {},
   "outputs": [],
   "source": [
    "from matplotlib import pyplot as plt\n",
    "import numpy as np"
   ]
  },
  {
   "cell_type": "code",
   "execution_count": 22,
   "metadata": {},
   "outputs": [],
   "source": [
    "x = pd.concat([\n",
    "    population[\"1990\"].rename(\"population\"),\n",
    "    life_expectancy[\"1990\"].rename(\"life_expectancy\"),\n",
    "    income[\"1990\"].rename(\"income\")\n",
    "    ],\n",
    "    axis=1, join='inner') #join=union. 'inner' defines only join points for which we have data ('outer' will include NaN)\n"
   ]
  },
  {
   "cell_type": "code",
   "execution_count": 23,
   "metadata": {},
   "outputs": [
    {
     "data": {
      "text/plain": [
       "<matplotlib.collections.PathCollection at 0x1310fea60>"
      ]
     },
     "execution_count": 23,
     "metadata": {},
     "output_type": "execute_result"
    },
    {
     "data": {
      "image/png": "[encoded data removed]",
      "text/plain": [
       "<Figure size 432x288 with 1 Axes>"
      ]
     },
     "metadata": {
      "needs_background": "light"
     },
     "output_type": "display_data"
    }
   ],
   "source": [
    "# bubble plot\n",
    "fig, ax = plt.subplots()\n",
    "ax.scatter(x[\"income\"],x[\"life_expectancy\"], s=np.sqrt(x[\"population\"])/50, alpha=0.3)"
   ]
  },
  {
   "cell_type": "markdown",
   "metadata": {},
   "source": [
    "# make a function to make bubble plot"
   ]
  },
  {
   "cell_type": "code",
   "execution_count": 32,
   "metadata": {},
   "outputs": [],
   "source": [
    "def gapminder_bubble(year: int): #year:int gives that this should be the type innotation. But this does not give an error if it is NOT a integer\n",
    "    year_str = str(year)\n",
    "    \n",
    "    # assemble data\n",
    "    x = pd.concat([\n",
    "        population[year_str].rename(\"population\"),\n",
    "        life_expectancy[year_str].rename(\"life_expectancy\"),\n",
    "        income[year_str].rename(\"income\")\n",
    "        ],\n",
    "        axis=1, join='inner') \n",
    "        #join=union. 'inner' defines only join points for which we have data in each set('outer' will include NaN)\n",
    "        \n",
    "    # plot the year\n",
    "    fig, ax = plt.subplots(subplot_kw={}) # normally a plot has a list of arguments that you can use\n",
    "        # subplot_kw gives these arguments to the subplots\n",
    "    ax.scatter(x[\"income\"],\n",
    "               x[\"life_expectancy\"], \n",
    "               s=np.sqrt(x[\"population\"])/50, \n",
    "               alpha=0.3,\n",
    "               )\n",
    "    plt.xlabel('income') # not useful because you dont link it to ax\n",
    "    ax.set_xlabel('income')\n",
    "    ax.set_ylabel('life expectancy')\n",
    "    ax.set_xscale('log')\n",
    "    ax.set_xlim(100,1e5) # set xlim fixed for slider later\n",
    "    fig.savefig(\"bubble.svg\") # saves figure so you can use it in a markdown cell\n",
    "    return fig, ax # not needed per se, but usefull if you want to change it later on"
   ]
  },
  {
   "cell_type": "code",
   "execution_count": 33,
   "metadata": {},
   "outputs": [
    {
     "data": {
      "text/plain": [
       "(<Figure size 432x288 with 1 Axes>,\n",
       " <matplotlib.axes._subplots.AxesSubplot at 0x13128a0d0>)"
      ]
     },
     "execution_count": 33,
     "metadata": {},
     "output_type": "execute_result"
    },
    {
     "data": {
      "image/png": "[encoded data removed]",
      "text/plain": [
       "<Figure size 432x288 with 1 Axes>"
      ]
     },
     "metadata": {
      "needs_background": "light"
     },
     "output_type": "display_data"
    }
   ],
   "source": [
    "gapminder_bubble(1900)\n",
    "# or, if you did not specify return fig,ax in hte function, you can do that here:\n",
    "# fig,ax=gapminder_bubble(1990)"
   ]
  },
  {
   "cell_type": "markdown",
   "metadata": {},
   "source": [
    "# Show figure in markdown cell\n",
    "![](bubble.svg)\n",
    "![this is a caption but you dont see this?](bubble.svg)"
   ]
  },
  {
   "cell_type": "markdown",
   "metadata": {},
   "source": [
    "# animate"
   ]
  },
  {
   "cell_type": "code",
   "execution_count": 34,
   "metadata": {},
   "outputs": [],
   "source": [
    "# !pip install ipywidgets\n",
    "import ipywidgets as widgets\n",
    "from ipywidgets import interact\n"
   ]
  },
  {
   "cell_type": "code",
   "execution_count": 40,
   "metadata": {},
   "outputs": [
    {
     "data": {
      "application/vnd.jupyter.widget-view+json": {
       "model_id": "d05cb0ce21e842e5b7cfb50e59884d30",
       "version_major": 2,
       "version_minor": 0
      },
      "text/plain": [
       "interactive(children=(IntSlider(value=1909, description='year', max=2018, min=1800), Output()), _dom_classes=(…"
      ]
     },
     "metadata": {},
     "output_type": "display_data"
    }
   ],
   "source": [
    "# interact: main function from widgets. you define the arguments that need to be given \n",
    "interact(gapminder_bubble, year=(1800,2018)) # year is required argument, set range\n",
    "plt.show()"
   ]
  },
  {
   "cell_type": "code",
   "execution_count": null,
   "metadata": {},
   "outputs": [],
   "source": []
  }
 ],
 "metadata": {
  "kernelspec": {
   "display_name": "Python 3",
   "language": "python",
   "name": "python3"
  },
  "language_info": {
   "codemirror_mode": {
    "name": "ipython",
    "version": 3
   },
   "file_extension": ".py",
   "mimetype": "text/x-python",
   "name": "python",
   "nbconvert_exporter": "python",
   "pygments_lexer": "ipython3",
   "version": "3.8.1"
  }
 },
 "nbformat": 4,
 "nbformat_minor": 4
}
